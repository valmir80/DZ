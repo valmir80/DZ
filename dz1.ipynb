{
 "cells": [
  {
   "cell_type": "markdown",
   "metadata": {},
   "source": [
    "# Work 1"
   ]
  },
  {
   "cell_type": "code",
   "execution_count": 1,
   "metadata": {},
   "outputs": [
    {
     "name": "stdout",
     "output_type": "stream",
     "text": [
      "Фраза 1 длиннее фразы 2\n"
     ]
    }
   ],
   "source": [
    "phrase_1 = 'Насколько проще было бы писать программы, если бы не заказчики'\n",
    "phrase_2 = '640Кб должно хватить для любых задач. Билл Гейтс (по легенде)'\n",
    "\n",
    "if phrase_1 > phrase_2:\n",
    "    print('Фраза 1 длиннее фразы 2')\n",
    "elif phrase_2 > phrase_1:\n",
    "    print('Фраза 2 длиннее фразы 1')\n",
    "elif phrase_1 == phrase_2:\n",
    "    print('Фразы равной длины')"
   ]
  },
  {
   "cell_type": "markdown",
   "metadata": {},
   "source": [
    "# Work 2"
   ]
  },
  {
   "cell_type": "code",
   "execution_count": 58,
   "metadata": {},
   "outputs": [
    {
     "name": "stdout",
     "output_type": "stream",
     "text": [
      "Високосный год\n"
     ]
    }
   ],
   "source": [
    "year = 2020\n",
    "\n",
    "if year % 4 == 0 and year % 100 != 0 or year % 400 == 0:\n",
    "    print('Високосный год')"
   ]
  },
  {
   "cell_type": "code",
   "execution_count": 57,
   "metadata": {},
   "outputs": [
    {
     "name": "stdout",
     "output_type": "stream",
     "text": [
      "Обычный год\n"
     ]
    }
   ],
   "source": [
    "year = 2019\n",
    "\n",
    "if year % 4 != 0 and year % 100 != 0 or year % 400 == 0:\n",
    "    print('Обычный год')"
   ]
  },
  {
   "cell_type": "markdown",
   "metadata": {},
   "source": [
    "# Work 3"
   ]
  },
  {
   "cell_type": "code",
   "execution_count": 81,
   "metadata": {},
   "outputs": [
    {
     "name": "stdout",
     "output_type": "stream",
     "text": [
      "Введите день 30\n",
      "Введите месяц Август\n",
      "Ваш знак зодиака: Дева\n"
     ]
    }
   ],
   "source": [
    "date = int(input('Введите день '))\n",
    "\n",
    "month = input('Введите месяц ')\n",
    "\n",
    "if (date >= 23 and date <= 31 and month == 'Август'): \n",
    "#or( month == 9 and date >= 1 and date <= 22):\n",
    "\n",
    "    print(\"Ваш знак зодиака: Дева\")"
   ]
  },
  {
   "cell_type": "code",
   "execution_count": null,
   "metadata": {},
   "outputs": [],
   "source": [
    "date = int(input('Введите день'))\n",
    "month = input('Введите месяц')\n",
    "\n",
    "if (date >= 23 and date <= 31 and month == 'Август'): \n",
    "#or( month == 9 and date >= 1 and date <= 22):\n",
    "    print(\"Ваш знак зодиака: Дева\")\n"
   ]
  },
  {
   "cell_type": "code",
   "execution_count": 5,
   "metadata": {},
   "outputs": [
    {
     "name": "stdout",
     "output_type": "stream",
     "text": [
      "Введите день29\n",
      "Введите месяцОктябрь\n",
      "Знак зодиака:Скорпион\n"
     ]
    }
   ],
   "source": [
    "date = int(input('Введите день'))\n",
    "month = input('Введите месяц')\n",
    "\n",
    "if (date >= 21 and date <= 31 and month == 'Март') or( month == 'Апрель' and date >= 1 and date <= 19):\n",
    "\n",
    "   print(\"Знак зодиака:Овен\")\n",
    "\n",
    "elif (date >= 20 and date <= 30 and month == 'Апрель') or( month == 'Май' and date >= 1 and date <= 20):\n",
    "\n",
    "   print(\"Знак зодиака:Телец\")\n",
    "\n",
    "elif (date >= 21 and date <= 31 and month == 'Май') or( month == 'Июнь' and date >= 1 and date <= 21):\n",
    "\n",
    "   print(\"Знак зодиака:Близнецы\")\n",
    "\n",
    "elif (date >= 22 and date <= 30 and month == 'Июнь') or( month == 'Июль' and date >= 1 and date <= 22):\n",
    "\n",
    "   print(\"Знак зодиака:Рак\")\n",
    "\n",
    "elif (date >= 23 and date <= 31 and month == 'Июль') or( month == 'Август' and date >= 1 and date <= 22):\n",
    "\n",
    "   print(\"Знак зодиака:Лев\")\n",
    "\n",
    "elif (date >= 23 and date <= 31 and month == 'Август') or( month == 'Сентябрь' and date >= 1 and date <= 22):\n",
    "\n",
    "   print(\"Знак зодиака:Дева\")\n",
    "\n",
    "elif (date >= 23 and date <= 30 and month == 'Сентябрь') or( month == 'Октябрь' and date >= 1 and date <= 23):\n",
    "\n",
    "   print(\"Знак зодиака:Весы\")\n",
    "\n",
    "elif (date >= 24 and date <= 31 and month == 'Октябрь') or( month == 'Ноябрь' and date >= 1 and date <= 22):\n",
    "\n",
    "   print(\"Знак зодиака:Скорпион\")\n",
    "\n",
    "elif (date >= 23 and date <= 30 and month == 'Ноябрь') or( month == 'Декабрь' and date >= 1 and date <= 21):\n",
    "\n",
    "   print(\"Знак зодиака:Стрелец\")\n",
    "\n",
    "elif (date >= 22 and date <= 31 and month == 'Декабрь') or( month == 'Январь' and date >= 1 and date <= 20):\n",
    "\n",
    "   print(\"Знак зодиака:Козерог\")\n",
    "\n",
    "elif (date >= 21 and date <= 31 and month == 'Январь') or( month == 'Февраль' and date >= 1 and date <= 18):\n",
    "\n",
    "   print(\"Знак зодиака:Водолей\")\n",
    "\n",
    "elif (date >= 19 and date <= 29 and month == 'Февраль') or( month == 'Март' and date >= 1 and date <= 20):\n",
    "\n",
    "   print(\"Знак зодиака:Рыбы\")"
   ]
  },
  {
   "cell_type": "markdown",
   "metadata": {},
   "source": [
    "# Work 4"
   ]
  },
  {
   "cell_type": "code",
   "execution_count": 7,
   "metadata": {},
   "outputs": [
    {
     "name": "stdout",
     "output_type": "stream",
     "text": [
      "Упаковка для лыж\n"
     ]
    }
   ],
   "source": [
    "width = 45\n",
    "length = 205\n",
    "height = 45\n",
    "\n",
    "if width < 15 and length < 15 and height < 15:\n",
    "    print('Коробка №1')\n",
    "elif (width > 15 and width < 50 ) and (length > 15 and length < 50) and (height > 15 and height < 50):\n",
    "    print('Коробка №2')\n",
    "elif (length > 200):\n",
    "    print('Упаковка для лыж')\n",
    "else:\n",
    "    print('Стандартная коробка №3')"
   ]
  },
  {
   "cell_type": "markdown",
   "metadata": {},
   "source": [
    "# Work 5"
   ]
  },
  {
   "cell_type": "code",
   "execution_count": 8,
   "metadata": {},
   "outputs": [
    {
     "name": "stdout",
     "output_type": "stream",
     "text": [
      "123456\n",
      "Несчастливый билет\n"
     ]
    }
   ],
   "source": [
    "number = 123456\n",
    "\n",
    "s = str(input())\n",
    "sum1 = (s[0]) + (s[1]) + (s[2])\n",
    "sum2 = (s[3]) + (s[4]) + (s[5])\n",
    "if sum1 == sum2:\n",
    "  print('Счастливый билет')\n",
    "else:\n",
    "  print('Несчастливый билет')"
   ]
  },
  {
   "cell_type": "code",
   "execution_count": 9,
   "metadata": {},
   "outputs": [
    {
     "name": "stdout",
     "output_type": "stream",
     "text": [
      "123321\n",
      "Несчастливый билет\n"
     ]
    }
   ],
   "source": [
    "number = 123321\n",
    "\n",
    "s = str(input())\n",
    "sum1 = (s[0]) + (s[1]) + (s[2])\n",
    "sum2 = (s[3]) + (s[4]) + (s[5])\n",
    "if sum1 == sum2:\n",
    "  print('Счастливый билет')\n",
    "else:\n",
    "  print('Несчастливый билет')"
   ]
  },
  {
   "cell_type": "markdown",
   "metadata": {},
   "source": [
    "# Work 6"
   ]
  },
  {
   "cell_type": "code",
   "execution_count": null,
   "metadata": {},
   "outputs": [],
   "source": [
    "import math\n",
    "\n",
    "a_type = input('Введите тип фигуры:')\n",
    "\n",
    "if a_type == 'Круг':\n",
    "    r = int(input('Введите радиус круга:'))\n",
    "    pi = 3.14159\n",
    "    s = pi*(r**2)\n",
    "    print('Площадь круга:', round(s, 2))\n",
    "    \n",
    "if a_type == 'Треугольник':\n",
    "    a = int(input('Введите длину стороны A:'))\n",
    "    b = int(input('Введите длину стороны B:'))\n",
    "    c = int(input('Введите длину стороны C:'))\n",
    "    p = (a + b + c) / 2\n",
    "    from math import sqrt\n",
    "    s = sqrt(p * (p -a) * (p - b) * (p - c))\n",
    "    print('Площадь Треугольника:', round(s, 2))\n",
    "    \n",
    "if a_type == 'Прямоугольник':\n",
    "    a = int(input('Введите длину стороны A:'))\n",
    "    b = int(input('Введите длину стороны B:'))\n",
    "    s = a*b\n",
    "    print('Площадь Прямоугольника:', round(s, 2))\n",
    "\n",
    "    "
   ]
  },
  {
   "cell_type": "code",
   "execution_count": null,
   "metadata": {},
   "outputs": [],
   "source": []
  }
 ],
 "metadata": {
  "kernelspec": {
   "display_name": "Python 3",
   "language": "python",
   "name": "python3"
  },
  "language_info": {
   "codemirror_mode": {
    "name": "ipython",
    "version": 3
   },
   "file_extension": ".py",
   "mimetype": "text/x-python",
   "name": "python",
   "nbconvert_exporter": "python",
   "pygments_lexer": "ipython3",
   "version": "3.8.3"
  }
 },
 "nbformat": 4,
 "nbformat_minor": 4
}
